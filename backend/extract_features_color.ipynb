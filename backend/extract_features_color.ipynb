{
 "cells": [
  {
   "cell_type": "code",
   "execution_count": 1,
   "metadata": {},
   "outputs": [],
   "source": [
    "import cv2\n",
    "from scipy.spatial.distance import euclidean\n",
    "from sklearn.metrics.pairwise import cosine_similarity\n",
    "from scipy.spatial.distance import euclidean\n",
    "import numpy as np\n",
    "from sklearn.cluster import SpectralClustering\n",
    "import os\n",
    "from tensorflow.keras.preprocessing.image import load_img, img_to_array\n",
    "from sklearn.decomposition import PCA\n",
    "import json\n",
    "\n",
    "dir_path = \"dataset/\"\n",
    "files = os.listdir(dir_path)"
   ]
  },
  {
   "cell_type": "code",
   "execution_count": 2,
   "metadata": {},
   "outputs": [],
   "source": [
    "def extract_featureHSV(im_path):\n",
    "    # Load image\n",
    "    img = cv2.imread(im_path)\n",
    "    new_size = (200, 200)\n",
    "    resized_img = cv2.resize(img, new_size)\n",
    "    # Convert to HSV color space\n",
    "    hsv = cv2.cvtColor(resized_img, cv2.COLOR_BGR2HSV)\n",
    "    # Extract the hue channel\n",
    "    hsv = hsv[:,:,0].ravel()\n",
    "    return hsv[0:40000] # feature vector\n",
    "\n",
    "filenames = []\n",
    "features = []\n",
    "for file in files:\n",
    "    file = os.path.join(dir_path, file)\n",
    "    feature = extract_featureHSV(file)\n",
    "    features.append(feature)\n",
    "    filenames.append(file)"
   ]
  },
  {
   "cell_type": "code",
   "execution_count": 3,
   "metadata": {},
   "outputs": [],
   "source": [
    "m = [np_array.tolist() for np_array in features]"
   ]
  },
  {
   "cell_type": "code",
   "execution_count": 4,
   "metadata": {},
   "outputs": [],
   "source": [
    "\n",
    "dict_final = {\"filenames\" : filenames,\n",
    "              \"features\" : m}\n",
    "                    \n",
    "with open('features_color.json', 'w') as f:\n",
    "    json.dump(dict_final, f)"
   ]
  }
 ],
 "metadata": {
  "kernelspec": {
   "display_name": "newbase",
   "language": "python",
   "name": "python3"
  },
  "language_info": {
   "codemirror_mode": {
    "name": "ipython",
    "version": 3
   },
   "file_extension": ".py",
   "mimetype": "text/x-python",
   "name": "python",
   "nbconvert_exporter": "python",
   "pygments_lexer": "ipython3",
   "version": "3.9.0"
  },
  "orig_nbformat": 4,
  "vscode": {
   "interpreter": {
    "hash": "e08ebe62f7559bc39cb69aef352317b2b1aa67e44a4847c8dc1246ae334a2e80"
   }
  }
 },
 "nbformat": 4,
 "nbformat_minor": 2
}
