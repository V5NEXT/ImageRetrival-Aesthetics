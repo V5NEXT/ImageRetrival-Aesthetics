{
 "cells": [
  {
   "cell_type": "code",
   "execution_count": null,
   "metadata": {},
   "outputs": [],
   "source": [
    "from sklearn.decomposition import PCA\n",
    "from sklearn.metrics import euclidean_distances\n",
    "from sklearn.metrics import pairwise_distances\n",
    "from sklearn.preprocessing import StandardScaler\n",
    "import json\n",
    "import numpy as np\n",
    "\n",
    "json_path = \"features/features_color.json\""
   ]
  },
  {
   "cell_type": "code",
   "execution_count": null,
   "metadata": {},
   "outputs": [],
   "source": [
    "# Upload file\n",
    "data = json.load(open(json_path))\n",
    "\n",
    "filenames = data[\"filenames\"]\n",
    "X = data[\"features\"]"
   ]
  },
  {
   "cell_type": "code",
   "execution_count": null,
   "metadata": {},
   "outputs": [],
   "source": [
    "# Initialize PCA with euclidean distance\n",
    "pca = PCA(n_components=2)\n",
    "pca.fit(X)\n",
    "print(\"Euclidean Distance: \",pca.components_)\n",
    "\n",
    "# Initialize PCA with cosine distance\n",
    "data_normalized = data / np.linalg.norm(data, axis=1, keepdims=True)\n",
    "pca = PCA(n_components=2)\n",
    "pca.fit(data_normalized)\n",
    "print(\"Cosine Distance: \",pca.components_)"
   ]
  }
 ],
 "metadata": {
  "kernelspec": {
   "display_name": "newbase",
   "language": "python",
   "name": "python3"
  },
  "language_info": {
   "name": "python",
   "version": "3.9.0 (default, Nov 15 2020, 08:30:55) [MSC v.1916 64 bit (AMD64)]"
  },
  "orig_nbformat": 4,
  "vscode": {
   "interpreter": {
    "hash": "e08ebe62f7559bc39cb69aef352317b2b1aa67e44a4847c8dc1246ae334a2e80"
   }
  }
 },
 "nbformat": 4,
 "nbformat_minor": 2
}
