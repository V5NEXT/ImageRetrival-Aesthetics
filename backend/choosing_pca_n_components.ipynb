{
 "cells": [
  {
   "cell_type": "code",
   "execution_count": null,
   "metadata": {},
   "outputs": [],
   "source": [
    "import cv2\n",
    "from scipy.spatial.distance import euclidean\n",
    "from sklearn.metrics.pairwise import cosine_similarity\n",
    "from scipy.spatial.distance import euclidean\n",
    "import numpy as np\n",
    "from sklearn.cluster import SpectralClustering\n",
    "import os\n",
    "from tensorflow.keras.preprocessing.image import load_img, img_to_array\n",
    "from sklearn.decomposition import PCA\n",
    "\n",
    "dir_path = \"./dataset_test/dandelion/\"\n",
    "files = os.listdir(dir_path)"
   ]
  },
  {
   "cell_type": "code",
   "execution_count": null,
   "metadata": {},
   "outputs": [],
   "source": [
    "def extract_featureHSV(im_path):\n",
    "    # Load image\n",
    "    img = cv2.imread(im_path)\n",
    "    # Convert to HSV color space\n",
    "    hsv = cv2.cvtColor(img, cv2.COLOR_BGR2HSV)\n",
    "    # Extract the hue channel\n",
    "    hsv = hsv[:,:,0].ravel()\n",
    "    return hsv[0:38000] # feature vector"
   ]
  },
  {
   "cell_type": "code",
   "execution_count": null,
   "metadata": {},
   "outputs": [],
   "source": [
    "features = []\n",
    "for file in files:\n",
    "    file = os.path.join(dir_path, file)\n",
    "    feature = extract_featureHSV(file)\n",
    "    features.append(feature)"
   ]
  },
  {
   "cell_type": "code",
   "execution_count": null,
   "metadata": {},
   "outputs": [],
   "source": [
    "from sklearn.decomposition import PCA\n",
    "import matplotlib.pyplot as plt\n",
    "\n",
    "# Load data\n",
    "X = features.copy() #your dataset\n",
    "\n",
    "# Initialize PCA\n",
    "pca = PCA()\n",
    "\n",
    "# Fit PCA to the data\n",
    "pca.fit(X)\n",
    "\n",
    "# Get the explained variance ratio\n",
    "explained_variance_ratio = pca.explained_variance_ratio_\n",
    "\n",
    "# Plot the explained variance ratio for each component\n",
    "%matplotlib widget\n",
    "plt.plot(range(1, len(explained_variance_ratio)+1), explained_variance_ratio)\n",
    "plt.xlabel('Number of components')\n",
    "plt.ylabel('Explained variance ratio')\n",
    "plt.show()\n",
    "\n",
    "# Choose the number of components that explain at least 80% of the total variance\n",
    "n_components = 0\n",
    "explained_variance = 0\n",
    "for i in range(len(explained_variance_ratio)):\n",
    "    explained_variance += explained_variance_ratio[i]\n",
    "    if explained_variance >= 0.8:\n",
    "        n_components = i+1\n",
    "        break\n",
    "\n",
    "print(\"Number of components that explain at least 80% of the total variance: \", n_components)"
   ]
  },
  {
   "cell_type": "code",
   "execution_count": null,
   "metadata": {},
   "outputs": [],
   "source": [
    "# 5 components"
   ]
  }
 ],
 "metadata": {
  "kernelspec": {
   "display_name": "newbase",
   "language": "python",
   "name": "python3"
  },
  "language_info": {
   "name": "python",
   "version": "3.9.0 (default, Nov 15 2020, 08:30:55) [MSC v.1916 64 bit (AMD64)]"
  },
  "orig_nbformat": 4,
  "vscode": {
   "interpreter": {
    "hash": "e08ebe62f7559bc39cb69aef352317b2b1aa67e44a4847c8dc1246ae334a2e80"
   }
  }
 },
 "nbformat": 4,
 "nbformat_minor": 2
}
