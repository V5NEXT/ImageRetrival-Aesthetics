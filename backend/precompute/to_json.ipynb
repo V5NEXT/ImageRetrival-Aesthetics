{
 "cells": [
  {
   "cell_type": "code",
   "execution_count": 29,
   "metadata": {},
   "outputs": [],
   "source": [
    "import pandas as pd\n",
    "import numpy as np\n",
    "import json"
   ]
  },
  {
   "cell_type": "code",
   "execution_count": null,
   "metadata": {},
   "outputs": [],
   "source": [
    "all_files = [\"File list\"]\n",
    "x_train_features = [\"List of ndrays features\"]"
   ]
  },
  {
   "cell_type": "code",
   "execution_count": null,
   "metadata": {},
   "outputs": [],
   "source": [
    "all_files_np = np.array(list(all_files.as_numpy_iterator()))\n",
    "\n",
    "filenames = all_files_np.tolist()\n",
    "m = list(map(lambda x: x.decode(), filenames)) # bytes to list\n",
    "features = [np_array.tolist() for np_array in x_train_features] # list of arrays to list of lists\n",
    "dict_final = {\"filenames\" : m,\n",
    "                    \"features\" : features}\n",
    "                    \n",
    "with open('features_InceptionV3.json', 'w') as f:\n",
    "    json.dump(dict_final, f)"
   ]
  }
 ],
 "metadata": {
  "kernelspec": {
   "display_name": "newbase",
   "language": "python",
   "name": "python3"
  },
  "language_info": {
   "codemirror_mode": {
    "name": "ipython",
    "version": 3
   },
   "file_extension": ".py",
   "mimetype": "text/x-python",
   "name": "python",
   "nbconvert_exporter": "python",
   "pygments_lexer": "ipython3",
   "version": "3.9.0 (default, Nov 15 2020, 08:30:55) [MSC v.1916 64 bit (AMD64)]"
  },
  "orig_nbformat": 4,
  "vscode": {
   "interpreter": {
    "hash": "e08ebe62f7559bc39cb69aef352317b2b1aa67e44a4847c8dc1246ae334a2e80"
   }
  }
 },
 "nbformat": 4,
 "nbformat_minor": 2
}
